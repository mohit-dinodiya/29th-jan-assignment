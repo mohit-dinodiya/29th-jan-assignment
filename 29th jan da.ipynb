{
 "cells": [
  {
   "cell_type": "markdown",
   "id": "4df4c728-347f-4109-9ab1-98b4a5847f98",
   "metadata": {},
   "source": [
    "# who developed python programming language?\n",
    "\n",
    "Python programming language was developed by Guido van Rossum in the late 1980s and early 1990s while he was working at the National Research Institute for Mathematics and Computer Science in the Netherlands."
   ]
  },
  {
   "cell_type": "markdown",
   "id": "2e5f7fc5-010a-4f27-8888-6d135176cf4f",
   "metadata": {},
   "source": [
    "# Which type of programming does python support?\n",
    "\n",
    "Python is a general-purpose programming language that supports several programming paradigms, including procedural, object-oriented, and functional programming. It also supports dynamic typing and automatic memory management, which make it easy to use and learn. Additionally, Python has a large standard library that provides a wide range of functionalities, from web development to scientific computing, and it also has a vast ecosystem of third-party libraries and tools that extend its capabilities even further."
   ]
  },
  {
   "cell_type": "markdown",
   "id": "21cea850-d747-4ba7-b446-01b662b43e41",
   "metadata": {},
   "source": [
    "# is python case sensitive when dealing with identifiers?\n",
    "\n",
    "Yes, Python is a case-sensitive programming language, which means that it distinguishes between identifiers (such as variable names, function names, and class names) that differ in their capitalization. For example, the variables my_var, My_Var, and MY_VAR are all considered to be different variables in Python.\n",
    "\n",
    "It is important to be consistent in your use of capitalization when defining and referencing identifiers in Python code to avoid confusion and errors."
   ]
  },
  {
   "cell_type": "markdown",
   "id": "32d39407-6726-4e13-844e-92e964de5038",
   "metadata": {},
   "source": [
    "# what is the correct extension of python file?\n",
    "\n",
    "The convention for naming Python files is to use the \".py\" extension. This extension indicates that the file contains Python code and allows the operating system and other tools to recognize it as such."
   ]
  },
  {
   "cell_type": "markdown",
   "id": "78a1a644-9b79-40c4-ba0a-a47c5cf33df5",
   "metadata": {},
   "source": [
    "# is python code compiled or interpreted?\n",
    "\n",
    "Python code is interpreted, meaning that it is executed directly by the Python interpreter without being compiled into machine code beforehand. When you run a Python program, the interpreter reads and executes the code line by line, translating each statement into machine code on-the-fly.\n",
    "\n",
    "However, Python does use a form of compilation in the background. When you import a module or package, Python compiles the source code into bytecode, which is a lower-level representation of the code that can be executed more efficiently by the interpreter. The bytecode is stored in .pyc files and is used to speed up the loading of the module on subsequent imports.\n",
    "\n",
    "In summary, Python code is interpreted, but it uses bytecode compilation to optimize performance."
   ]
  },
  {
   "cell_type": "markdown",
   "id": "d5e48130-7dcb-4f58-91a3-e93b245d1768",
   "metadata": {},
   "source": [
    "# Name a few blocks of code used to define in python language?\n",
    "In Python, code blocks are defined using indentation instead of braces or other delimiters. Here are a few examples of code blocks in Python:"
   ]
  },
  {
   "cell_type": "markdown",
   "id": "1c94aab2-07c5-4624-9bcf-cc34e1475975",
   "metadata": {},
   "source": [
    "Function definition block\n",
    "    def my_function(arg1, arg2):\n",
    "    # function body\n",
    "    return result\n",
    "Conditional block:\n",
    "    if condition:\n",
    "    # code to execute if condition is True\n",
    "else:\n",
    "    # code to execute if condition is False\n",
    "Loop block:\n",
    "for item in my_list:\n",
    "    # code to execute for each item in the list\n",
    "Note that in each of these examples, the code inside the block is indented to indicate that it is part of the block. The exact amount of indentation is up to the programmer, but it must be consistent within each block.\n",
    "\n"
   ]
  },
  {
   "cell_type": "markdown",
   "id": "8a14fe36-3ea7-49a6-ad7c-ae81d73dd7b3",
   "metadata": {},
   "source": [
    "# State a character used to give a single- line comments in python?\n",
    "\n",
    "In Python, a single-line comment can be created using the hash symbol (#). Any text that follows the hash symbol on the same line is ignored by the Python interpreter.\n",
    "\n"
   ]
  },
  {
   "cell_type": "markdown",
   "id": "47e90794-8ee4-4743-9055-476fd9b98f81",
   "metadata": {},
   "source": [
    "# Mentions functions which can help us to find the version of python that we are currently working on?\n",
    "\n",
    "In Python, we can use the following functions to find the version of Python that we are currently working on:\n",
    "\n",
    "sys.version:\n",
    "python\n",
    "Copy code\n",
    "import sys\n",
    "print(sys.version)\n",
    "This function returns a string that contains the Python version number and some additional information, such as the build number and the release date.\n",
    "\n",
    "platform.python_version():\n",
    "python\n",
    "Copy code\n",
    "import platform\n",
    "print(platform.python_version())\n",
    "This function returns a string that contains only the Python version number, without any additional information.\n",
    "\n",
    "Both of these functions can be useful for debugging and troubleshooting, especially when you are working on a system that has multiple versions of Python installed."
   ]
  },
  {
   "cell_type": "markdown",
   "id": "843c144d-b836-4963-aa75-ee2a9a522b4e",
   "metadata": {},
   "source": [
    "# what does pip stand for python?\n",
    "\n",
    "PIP stands for \"Pip Installs Packages\" or \"Pip Installs Python\". It is a package manager for Python that allows you to install and manage Python packages and their dependencies. PIP is used to install packages from the Python Package Index (PyPI) or other sources."
   ]
  },
  {
   "cell_type": "markdown",
   "id": "2d41210e-ddeb-4897-b0e8-2686edeea7cb",
   "metadata": {},
   "source": [
    "# Mention few built-in function in python?\n",
    "\n",
    "print() - used to print output to the console.\n",
    "\n",
    "input() - used to accept user input from the console.\n",
    "\n",
    "len() - used to get the length of a string, list, tuple, or other iterable.\n",
    "\n",
    "range() - used to generate a sequence of numbers.\n",
    "\n",
    "type() - used to get the data type of a variable or object.\n",
    "\n",
    "str() - used to convert a value to a string.\n",
    "\n",
    "int() - used to convert a value to an integer.\n",
    "\n",
    "float() - used to convert a value to a floating-point number.\n",
    "\n",
    "list() - used to create a list from an iterable or convert a string to a list.\n",
    "\n",
    "tuple() - used to create a tuple from an iterable or convert a string to a tuple."
   ]
  },
  {
   "cell_type": "markdown",
   "id": "6f99294e-77e3-4f73-91ab-8ea71ea88546",
   "metadata": {},
   "source": [
    "# What are the benefits of using python?\n",
    "\n",
    "Python has several benefits that make it a popular programming language:\n",
    "\n",
    "Easy to Learn: Python has a simple and easy-to-understand syntax, making it easy for beginners to learn and write code.\n",
    "\n",
    "Large Standard Library: Python comes with a large standard library that provides a wide range of tools and modules that can be used to perform various tasks.\n",
    "\n",
    "Cross-Platform: Python is a cross-platform language, which means that code written in Python can run on multiple platforms, such as Windows, macOS, and Linux.\n",
    "\n",
    "Dynamically Typed: Python is a dynamically typed language, which means that you don't need to specify the data type of a variable when you declare it. Python will automatically detect the data type based on the value assigned to it.\n",
    "\n",
    "High-Level Language: Python is a high-level language, which means that it provides a high-level of abstraction from the machine-level code. This makes it easier to write and read code.\n",
    "\n",
    "Large Community: Python has a large and active community of developers and users who contribute to the development of new libraries and tools, as well as provide support and guidance to new developers.\n",
    "\n",
    "Versatility: Python can be used for a wide range of applications, including web development, data analysis, machine learning, artificial intelligence, scientific computing, and more.\n",
    "\n",
    "Overall, the simplicity, versatility, and powerful libraries of Python make it an excellent choice for a variety of programming tasks."
   ]
  },
  {
   "cell_type": "markdown",
   "id": "948442e4-79ef-4597-bce2-43738fbcf912",
   "metadata": {},
   "source": [
    "# How is memory managed in python?\n",
    "\n",
    "Memory management in Python is handled automatically through a process called garbage collection. Python uses a built-in mechanism called the reference counting method to keep track of the objects in memory. Each object in memory has a reference count that keeps track of how many times the object is referred to in the code. When an object's reference count drops to zero, it means that there are no more references to that object, and it is no longer needed.\n",
    "\n",
    "Python's garbage collector periodically checks the reference counts of all objects in memory and removes objects that have a reference count of zero. The garbage collector is responsible for freeing up memory that is no longer being used, and it does this automatically without the need for explicit memory management by the programmer.\n",
    "\n",
    "In addition to the reference counting mechanism, Python also has a system of memory allocation and deallocation that helps to manage memory more efficiently. When a new object is created in Python, memory is allocated for that object. When the object is no longer needed, the memory is deallocated.\n",
    "\n",
    "Overall, Python's memory management system is designed to be simple and efficient, allowing developers to focus on writing code without having to worry about memory allocation and deallocation."
   ]
  },
  {
   "cell_type": "markdown",
   "id": "ba19e53f-9375-41f7-a86d-8900d1d42864",
   "metadata": {},
   "source": [
    "# is indentation required in python?\n",
    "\n",
    "Yes, indentation is required in Python. Unlike many other programming languages, where indentation is optional and used mainly for readability, indentation in Python is a fundamental part of the syntax.\n",
    "\n",
    "In Python, indentation is used to indicate the block of code that belongs to a particular control structure, such as a loop or conditional statement. The amount of indentation used in a block of code determines the scope of the block."
   ]
  },
  {
   "cell_type": "markdown",
   "id": "59737f5e-5638-432f-bb32-451bbcabbcff",
   "metadata": {},
   "source": [
    "# How to install python on windows and set path variables?\n",
    "\n",
    "Here are the steps to install Python on Windows and set path variables:\n",
    "\n",
    "Download the Python installer: Go to the Python download page (https://www.python.org/downloads/) and download the latest version of Python for Windows.\n",
    "\n",
    "Run the installer: Once the download is complete, run the installer and follow the prompts to install Python on your system. Make sure to select the option to add Python to your system path during the installation process.\n",
    "\n",
    "Check the installation: Once the installation is complete, open a command prompt (press Win+R, type \"cmd\", and press Enter) and type \"python\". If Python is installed correctly, you should see the Python prompt \">>>\".\n",
    "\n",
    "Set the path variables: If you cannot access Python from the command prompt, you may need to set the path variables manually. To do this, follow these steps:\n",
    "\n",
    "a. Open the Start menu and search for \"Environment Variables\".\n",
    "\n",
    "b. Click on \"Edit the system environment variables\".\n",
    "\n",
    "c. Click on the \"Environment Variables\" button.\n",
    "\n",
    "d. Under \"System Variables\", find the \"Path\" variable and click \"Edit\".\n",
    "\n",
    "e. Click \"New\" and add the path to the \"Python\" folder (e.g., \"C:\\Python39\") and the \"Scripts\" folder (e.g., \"C:\\Python39\\Scripts\").\n",
    "\n",
    "f. Click \"OK\" to save the changes and close all windows.\n",
    "\n",
    "Verify the path variables: Open a new command prompt and type \"python\". If Python opens, then the path variables have been set correctly.\n",
    "\n",
    "That's it! You have installed Python on your Windows system and set the path variables. Now you can start writing and executing Python code."
   ]
  },
  {
   "cell_type": "markdown",
   "id": "38cb959b-5c55-43fc-a4e9-a6c983043881",
   "metadata": {},
   "source": [
    "# What is the maximum possible length of an identifier in python?\n",
    "\n",
    "In Python, the maximum length of an identifier is not explicitly defined. However, PEP 8 style guide recommends that identifiers (such as variable names, function names, etc.) should be at most 79 characters long. This recommendation is based on the assumption that most modern text editors or IDEs can display up to 79 characters per line without wrapping.\n",
    "\n",
    "In practice, the length of an identifier should be reasonable and easy to understand. A good rule of thumb is to keep the identifier length as short as possible while still being descriptive enough to convey its purpose. This helps to make the code more readable and easier to maintain.\n",
    "\n",
    "It's also worth noting that Python identifiers can only contain letters, digits, and underscores, and they must start with a letter or an underscore. Identifiers are case-sensitive, which means that \"myVar\" and \"myvar\" are considered different identifiers."
   ]
  },
  {
   "cell_type": "markdown",
   "id": "f41fa002-f2b5-40ae-a896-3fd3f5ffc0ef",
   "metadata": {},
   "source": [
    "# Python supports the creation of anonymous functions at run - time , using a construct called?\n",
    "\n",
    "Python supports the creation of anonymous functions at run-time using a construct called \"lambda\" functions.\n",
    "\n",
    "Lambda functions are also known as anonymous functions, because they do not have a name. They are defined using the lambda keyword followed by a list of arguments, a colon, and an expression. The expression is evaluated and returned as the result of the function.\n",
    "\n",
    "Lambda functions are useful for creating small, simple functions that are used only once in a program. They can be passed as arguments to other functions or used as the key function for sorting or filtering lists.\n",
    "\n",
    "Note that lambda functions can only contain a single expression, and they do not include a return statement. The result of the expression is automatically returned as the result of the function."
   ]
  },
  {
   "cell_type": "code",
   "execution_count": null,
   "id": "16481664-099f-476b-b10e-c8061644e32f",
   "metadata": {},
   "outputs": [],
   "source": []
  }
 ],
 "metadata": {
  "kernelspec": {
   "display_name": "Python 3 (ipykernel)",
   "language": "python",
   "name": "python3"
  },
  "language_info": {
   "codemirror_mode": {
    "name": "ipython",
    "version": 3
   },
   "file_extension": ".py",
   "mimetype": "text/x-python",
   "name": "python",
   "nbconvert_exporter": "python",
   "pygments_lexer": "ipython3",
   "version": "3.10.8"
  }
 },
 "nbformat": 4,
 "nbformat_minor": 5
}
